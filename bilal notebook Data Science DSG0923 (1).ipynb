{
 "cells": [
  {
   "cell_type": "code",
   "execution_count": 1,
   "id": "2532773d",
   "metadata": {},
   "outputs": [
    {
     "name": "stdout",
     "output_type": "stream",
     "text": [
      "my name is Bilal\n"
     ]
    }
   ],
   "source": [
    "print(\"my name is Bilal\")"
   ]
  },
  {
   "cell_type": "markdown",
   "id": "49673328",
   "metadata": {},
   "source": [
    "Hello Data Science"
   ]
  },
  {
   "cell_type": "code",
   "execution_count": 2,
   "id": "0449b659",
   "metadata": {},
   "outputs": [
    {
     "name": "stdout",
     "output_type": "stream",
     "text": [
      "Hello Data sciene\n"
     ]
    }
   ],
   "source": [
    "print(\"Hello Data sciene\")"
   ]
  }
 ],
 "metadata": {
  "kernelspec": {
   "display_name": "Python 3 (ipykernel)",
   "language": "python",
   "name": "python3"
  },
  "language_info": {
   "codemirror_mode": {
    "name": "ipython",
    "version": 3
   },
   "file_extension": ".py",
   "mimetype": "text/x-python",
   "name": "python",
   "nbconvert_exporter": "python",
   "pygments_lexer": "ipython3",
   "version": "3.11.4"
  }
 },
 "nbformat": 4,
 "nbformat_minor": 5
}
