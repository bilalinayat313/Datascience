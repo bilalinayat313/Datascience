{
 "cells": [
  {
   "cell_type": "code",
   "execution_count": 8,
   "id": "faca6688",
   "metadata": {},
   "outputs": [],
   "source": [
    "k=\"python is popular programming language\""
   ]
  },
  {
   "cell_type": "code",
   "execution_count": 9,
   "id": "a9343546",
   "metadata": {},
   "outputs": [
    {
     "data": {
      "text/plain": [
       "'python is best programming language'"
      ]
     },
     "execution_count": 9,
     "metadata": {},
     "output_type": "execute_result"
    }
   ],
   "source": [
    "k.replace(\"popular\",\"best\")"
   ]
  },
  {
   "cell_type": "code",
   "execution_count": 13,
   "id": "a220ef47",
   "metadata": {},
   "outputs": [],
   "source": [
    "l=\"nasaisbuildinghotelprojectinmars\""
   ]
  },
  {
   "cell_type": "code",
   "execution_count": 14,
   "id": "14ab84b1",
   "metadata": {},
   "outputs": [
    {
     "data": {
      "text/plain": [
       "'nasaisbuildinghotelprojectinmars'"
      ]
     },
     "execution_count": 14,
     "metadata": {},
     "output_type": "execute_result"
    }
   ],
   "source": [
    "l"
   ]
  },
  {
   "cell_type": "code",
   "execution_count": 15,
   "id": "80d325ac",
   "metadata": {},
   "outputs": [
    {
     "data": {
      "text/plain": [
       "'nasaisbuildinghotelprojectinmars'"
      ]
     },
     "execution_count": 15,
     "metadata": {},
     "output_type": "execute_result"
    }
   ],
   "source": [
    "\"\".join(l)"
   ]
  },
  {
   "cell_type": "code",
   "execution_count": 16,
   "id": "c1d7cffe",
   "metadata": {},
   "outputs": [
    {
     "data": {
      "text/plain": [
       "'n a s a i s b u i l d i n g h o t e l p r o j e c t i n m a r s'"
      ]
     },
     "execution_count": 16,
     "metadata": {},
     "output_type": "execute_result"
    }
   ],
   "source": [
    "\" \".join(l)"
   ]
  },
  {
   "cell_type": "code",
   "execution_count": 19,
   "id": "b6ffd4c6",
   "metadata": {},
   "outputs": [],
   "source": [
    "l1=\"nasais,building,hotel,project,in,mars\""
   ]
  },
  {
   "cell_type": "code",
   "execution_count": 20,
   "id": "c0e60079",
   "metadata": {},
   "outputs": [
    {
     "data": {
      "text/plain": [
       "'nasais,building,hotel,project,in,mars'"
      ]
     },
     "execution_count": 20,
     "metadata": {},
     "output_type": "execute_result"
    }
   ],
   "source": [
    "l1"
   ]
  },
  {
   "cell_type": "code",
   "execution_count": 21,
   "id": "80427f27",
   "metadata": {},
   "outputs": [
    {
     "data": {
      "text/plain": [
       "'nasais,building,hotel,project,in,mars'"
      ]
     },
     "execution_count": 21,
     "metadata": {},
     "output_type": "execute_result"
    }
   ],
   "source": [
    "\"\".join(l)"
   ]
  },
  {
   "cell_type": "code",
   "execution_count": 22,
   "id": "77d565f0",
   "metadata": {},
   "outputs": [
    {
     "data": {
      "text/plain": [
       "'n a s a i s , b u i l d i n g , h o t e l , p r o j e c t , i n , m a r s'"
      ]
     },
     "execution_count": 22,
     "metadata": {},
     "output_type": "execute_result"
    }
   ],
   "source": [
    "\" \".join(l)"
   ]
  },
  {
   "cell_type": "code",
   "execution_count": 24,
   "id": "dfc909f3",
   "metadata": {},
   "outputs": [
    {
     "ename": "SyntaxError",
     "evalue": "unterminated string literal (detected at line 1) (1944596530.py, line 1)",
     "output_type": "error",
     "traceback": [
      "\u001b[1;36m  Cell \u001b[1;32mIn[24], line 1\u001b[1;36m\u001b[0m\n\u001b[1;33m    \".join(l)\u001b[0m\n\u001b[1;37m    ^\u001b[0m\n\u001b[1;31mSyntaxError\u001b[0m\u001b[1;31m:\u001b[0m unterminated string literal (detected at line 1)\n"
     ]
    }
   ],
   "source": [
    "\".join(l)"
   ]
  },
  {
   "cell_type": "code",
   "execution_count": 25,
   "id": "a34f8bd5",
   "metadata": {},
   "outputs": [],
   "source": [
    "l2=\"'nasais','building','hotel','project','in','mars'\""
   ]
  },
  {
   "cell_type": "markdown",
   "id": "460116ff",
   "metadata": {},
   "source": [
    "## "
   ]
  },
  {
   "cell_type": "code",
   "execution_count": 26,
   "id": "84dc773f",
   "metadata": {},
   "outputs": [
    {
     "data": {
      "text/plain": [
       "\"'nasais','building','hotel','project','in','mars'\""
      ]
     },
     "execution_count": 26,
     "metadata": {},
     "output_type": "execute_result"
    }
   ],
   "source": [
    "l2"
   ]
  },
  {
   "cell_type": "code",
   "execution_count": 27,
   "id": "a22902ca",
   "metadata": {},
   "outputs": [
    {
     "data": {
      "text/plain": [
       "\"'nasais','building','hotel','project','in','mars'\""
      ]
     },
     "execution_count": 27,
     "metadata": {},
     "output_type": "execute_result"
    }
   ],
   "source": [
    "\"\".join(l2)"
   ]
  },
  {
   "cell_type": "code",
   "execution_count": 28,
   "id": "d56f334f",
   "metadata": {},
   "outputs": [
    {
     "data": {
      "text/plain": [
       "\"' n a s a i s ' , ' b u i l d i n g ' , ' h o t e l ' , ' p r o j e c t ' , ' i n ' , ' m a r s '\""
      ]
     },
     "execution_count": 28,
     "metadata": {},
     "output_type": "execute_result"
    }
   ],
   "source": [
    "\" \".join(l2)"
   ]
  },
  {
   "cell_type": "code",
   "execution_count": 30,
   "id": "7ccb4d21",
   "metadata": {},
   "outputs": [],
   "source": [
    "city=\"nowshera\""
   ]
  },
  {
   "cell_type": "code",
   "execution_count": 31,
   "id": "d7b9ca3e",
   "metadata": {},
   "outputs": [
    {
     "data": {
      "text/plain": [
       "'nowshera'"
      ]
     },
     "execution_count": 31,
     "metadata": {},
     "output_type": "execute_result"
    }
   ],
   "source": [
    "city"
   ]
  },
  {
   "cell_type": "code",
   "execution_count": 32,
   "id": "22cfc567",
   "metadata": {},
   "outputs": [
    {
     "ename": "NameError",
     "evalue": "name 'City' is not defined",
     "output_type": "error",
     "traceback": [
      "\u001b[1;31m---------------------------------------------------------------------------\u001b[0m",
      "\u001b[1;31mNameError\u001b[0m                                 Traceback (most recent call last)",
      "Cell \u001b[1;32mIn[32], line 1\u001b[0m\n\u001b[1;32m----> 1\u001b[0m City\n",
      "\u001b[1;31mNameError\u001b[0m: name 'City' is not defined"
     ]
    }
   ],
   "source": [
    "City"
   ]
  },
  {
   "cell_type": "code",
   "execution_count": 33,
   "id": "76b8a9d3",
   "metadata": {},
   "outputs": [],
   "source": [
    "city=\"Nowshera\""
   ]
  },
  {
   "cell_type": "code",
   "execution_count": 35,
   "id": "aed39828",
   "metadata": {},
   "outputs": [],
   "source": [
    "city1=\"nowshera\""
   ]
  },
  {
   "cell_type": "code",
   "execution_count": 36,
   "id": "f96f7935",
   "metadata": {},
   "outputs": [],
   "source": [
    "city=city1"
   ]
  },
  {
   "cell_type": "code",
   "execution_count": 18,
   "id": "65416d21",
   "metadata": {},
   "outputs": [
    {
     "ename": "IndentationError",
     "evalue": "expected an indented block after 'if' statement on line 4 (2693784026.py, line 6)",
     "output_type": "error",
     "traceback": [
      "\u001b[1;36m  Cell \u001b[1;32mIn[18], line 6\u001b[1;36m\u001b[0m\n\u001b[1;33m    print(\"the two city is matching\")\u001b[0m\n\u001b[1;37m    ^\u001b[0m\n\u001b[1;31mIndentationError\u001b[0m\u001b[1;31m:\u001b[0m expected an indented block after 'if' statement on line 4\n"
     ]
    }
   ],
   "source": [
    "city=\"Nowshera\"\n",
    "city1=\"nowshera\"\n",
    "\n",
    "if city == city1:\n",
    "\n",
    "print(\"the two city is matching\")\n",
    "\n",
    "else:\n",
    "\n",
    "print(\"the two city is nont matching\")"
   ]
  },
  {
   "cell_type": "code",
   "execution_count": 52,
   "id": "bd7f2f6e",
   "metadata": {},
   "outputs": [
    {
     "ename": "IndentationError",
     "evalue": "expected an indented block after 'if' statement on line 4 (1459043416.py, line 5)",
     "output_type": "error",
     "traceback": [
      "\u001b[1;36m  Cell \u001b[1;32mIn[52], line 5\u001b[1;36m\u001b[0m\n\u001b[1;33m    print(\"the two city is matching\")\u001b[0m\n\u001b[1;37m    ^\u001b[0m\n\u001b[1;31mIndentationError\u001b[0m\u001b[1;31m:\u001b[0m expected an indented block after 'if' statement on line 4\n"
     ]
    }
   ],
   "source": [
    "city=\"Nowshera\"\n",
    "city1=\"nowshera\"\n",
    "\n",
    "if city==city1:\n",
    "print(\"the two city is matching\")\n",
    "\n",
    "else:\n",
    "\n",
    "    print(\"the two city is nont matching\")"
   ]
  },
  {
   "cell_type": "code",
   "execution_count": 10,
   "id": "0e45c6f6",
   "metadata": {},
   "outputs": [
    {
     "ename": "IndentationError",
     "evalue": "expected an indented block after 'if' statement on line 4 (2461131514.py, line 5)",
     "output_type": "error",
     "traceback": [
      "\u001b[1;36m  Cell \u001b[1;32mIn[10], line 5\u001b[1;36m\u001b[0m\n\u001b[1;33m    print(\"the two city is matching\")\u001b[0m\n\u001b[1;37m    ^\u001b[0m\n\u001b[1;31mIndentationError\u001b[0m\u001b[1;31m:\u001b[0m expected an indented block after 'if' statement on line 4\n"
     ]
    }
   ],
   "source": [
    "string1=\"Nowshera\"\n",
    "string2=\"gowshera\"\n",
    "\n",
    "if string1==string2:\n",
    "print(\"the two city is matching\")\n",
    "\n",
    "else:\n",
    "\n",
    "    print(\"the two city is nont matching\")"
   ]
  },
  {
   "cell_type": "code",
   "execution_count": 60,
   "id": "bd882c4a",
   "metadata": {},
   "outputs": [
    {
     "name": "stdout",
     "output_type": "stream",
     "text": [
      "the two city is nont matching\n"
     ]
    }
   ],
   "source": [
    "string1=\"Nowshera\"\n",
    "string2=\"gowshera\"\n",
    "\n",
    "if string1.casefold()==string2.casefold():\n",
    "    print(\"the two city is matching\")\n",
    "\n",
    "else:\n",
    "\n",
    "    print(\"the two city is nont matching\")"
   ]
  },
  {
   "cell_type": "code",
   "execution_count": 59,
   "id": "e5b2c561",
   "metadata": {},
   "outputs": [
    {
     "name": "stdout",
     "output_type": "stream",
     "text": [
      "false\n"
     ]
    }
   ],
   "source": [
    "string1=\"alka\"\n",
    "string2=\"Alka\"\n",
    "\n",
    "if string1==string2:\n",
    "    print(\"true\")\n",
    "else:\n",
    "        print(\"false\")"
   ]
  },
  {
   "cell_type": "code",
   "execution_count": 61,
   "id": "9a8ae4b1",
   "metadata": {},
   "outputs": [],
   "source": [
    "m=\"lenovo,mobile\""
   ]
  },
  {
   "cell_type": "markdown",
   "id": "0fae8211",
   "metadata": {},
   "source": [
    "m.replace(\"mobile\",\"\")"
   ]
  },
  {
   "cell_type": "code",
   "execution_count": 64,
   "id": "32d89db9",
   "metadata": {},
   "outputs": [
    {
     "data": {
      "text/plain": [
       "'lenovo,'"
      ]
     },
     "execution_count": 64,
     "metadata": {},
     "output_type": "execute_result"
    }
   ],
   "source": [
    "m.replace(\"mobile\",\"\")"
   ]
  },
  {
   "cell_type": "markdown",
   "id": "a27360ea",
   "metadata": {},
   "source": []
  },
  {
   "cell_type": "code",
   "execution_count": 65,
   "id": "19a33386",
   "metadata": {},
   "outputs": [
    {
     "data": {
      "text/plain": [
       "'lenovo,mobile'"
      ]
     },
     "execution_count": 65,
     "metadata": {},
     "output_type": "execute_result"
    }
   ],
   "source": [
    "m"
   ]
  },
  {
   "cell_type": "code",
   "execution_count": 2,
   "id": "24a30732",
   "metadata": {},
   "outputs": [
    {
     "data": {
      "text/plain": [
       "'lenovo,'"
      ]
     },
     "execution_count": 2,
     "metadata": {},
     "output_type": "execute_result"
    }
   ],
   "source": [
    "m=\"lenovo,mobile\"\n",
    "m.replace(\"mobile\",\"\")"
   ]
  },
  {
   "cell_type": "code",
   "execution_count": 67,
   "id": "a7b3efb3",
   "metadata": {},
   "outputs": [
    {
     "data": {
      "text/plain": [
       "'lenovo,mobile'"
      ]
     },
     "execution_count": 67,
     "metadata": {},
     "output_type": "execute_result"
    }
   ],
   "source": [
    "m=\"lenovo,mobile#\"\n",
    "m.replace(\"#\",\"\")"
   ]
  },
  {
   "cell_type": "code",
   "execution_count": 1,
   "id": "219986b9",
   "metadata": {},
   "outputs": [
    {
     "name": "stdout",
     "output_type": "stream",
     "text": [
      "name is age years old taking salaraysalary\n"
     ]
    }
   ],
   "source": [
    "name=\"bilal\"\n",
    "age=23\n",
    "salary=68989.78\n",
    "print(\"{} is {} years old taking salaray{}\".format(\"name\",\"age\",\"salary\") )"
   ]
  },
  {
   "cell_type": "code",
   "execution_count": 3,
   "id": "93416b92",
   "metadata": {},
   "outputs": [
    {
     "name": "stdout",
     "output_type": "stream",
     "text": [
      "Bilal is 23 years old taking salaray 68989.78\n"
     ]
    }
   ],
   "source": [
    "name=\"bilal\"\n",
    "age=23\n",
    "salary=68989.78\n",
    "print(\"{} is {} years old taking salaray {}\".format(\"Bilal\",\"23\",\"68989.78\") )"
   ]
  },
  {
   "cell_type": "code",
   "execution_count": 4,
   "id": "185cd9c9",
   "metadata": {},
   "outputs": [
    {
     "name": "stdout",
     "output_type": "stream",
     "text": [
      "hello bilal \n"
     ]
    }
   ],
   "source": [
    "print(\"hello bilal \")"
   ]
  },
  {
   "cell_type": "code",
   "execution_count": 3,
   "id": "7858fa61",
   "metadata": {},
   "outputs": [
    {
     "data": {
      "text/plain": [
       "'lenovo,mobile'"
      ]
     },
     "execution_count": 3,
     "metadata": {},
     "output_type": "execute_result"
    }
   ],
   "source": [
    "m"
   ]
  },
  {
   "cell_type": "code",
   "execution_count": 6,
   "id": "0394d034",
   "metadata": {},
   "outputs": [
    {
     "ename": "AttributeError",
     "evalue": "'str' object has no attribute 'length'",
     "output_type": "error",
     "traceback": [
      "\u001b[1;31m---------------------------------------------------------------------------\u001b[0m",
      "\u001b[1;31mAttributeError\u001b[0m                            Traceback (most recent call last)",
      "Cell \u001b[1;32mIn[6], line 1\u001b[0m\n\u001b[1;32m----> 1\u001b[0m m\u001b[38;5;241m.\u001b[39mlength(\u001b[38;5;124m\"\u001b[39m\u001b[38;5;124m\"\u001b[39m)\n",
      "\u001b[1;31mAttributeError\u001b[0m: 'str' object has no attribute 'length'"
     ]
    }
   ],
   "source": [
    "m.length(\"\")"
   ]
  },
  {
   "cell_type": "markdown",
   "id": "d15aae58",
   "metadata": {},
   "source": [
    "# FUNCTIONS"
   ]
  },
  {
   "cell_type": "code",
   "execution_count": 9,
   "id": "9a9f1f3e",
   "metadata": {},
   "outputs": [
    {
     "ename": "IndentationError",
     "evalue": "expected an indented block after function definition on line 1 (4122106890.py, line 2)",
     "output_type": "error",
     "traceback": [
      "\u001b[1;36m  Cell \u001b[1;32mIn[9], line 2\u001b[1;36m\u001b[0m\n\u001b[1;33m    a= int (input (\"enter any number\"))\u001b[0m\n\u001b[1;37m    ^\u001b[0m\n\u001b[1;31mIndentationError\u001b[0m\u001b[1;31m:\u001b[0m expected an indented block after function definition on line 1\n"
     ]
    }
   ],
   "source": [
    "def multiply_function():\n",
    "a= int (input (\"enter any number\"))\n",
    "b= int (input (\"enter any number\"))\n",
    "c=a*b\n",
    "print(\"a*b=\",c)"
   ]
  },
  {
   "cell_type": "code",
   "execution_count": 13,
   "id": "934c9bb7",
   "metadata": {},
   "outputs": [
    {
     "ename": "IndentationError",
     "evalue": "expected an indented block after function definition on line 1 (3429022674.py, line 2)",
     "output_type": "error",
     "traceback": [
      "\u001b[1;36m  Cell \u001b[1;32mIn[13], line 2\u001b[1;36m\u001b[0m\n\u001b[1;33m    a=10\u001b[0m\n\u001b[1;37m    ^\u001b[0m\n\u001b[1;31mIndentationError\u001b[0m\u001b[1;31m:\u001b[0m expected an indented block after function definition on line 1\n"
     ]
    }
   ],
   "source": [
    "def multiplyfunction():\n",
    "a=10\n",
    "b=20\n",
    "c=a*b\n",
    "print(\"c\")"
   ]
  },
  {
   "cell_type": "code",
   "execution_count": 18,
   "id": "2aac7c2e",
   "metadata": {},
   "outputs": [],
   "source": [
    "# function\n",
    "def function():\n",
    "    print(\"Am in function\")"
   ]
  },
  {
   "cell_type": "code",
   "execution_count": 19,
   "id": "bc1af59d",
   "metadata": {},
   "outputs": [
    {
     "name": "stdout",
     "output_type": "stream",
     "text": [
      "Am in function\n"
     ]
    }
   ],
   "source": [
    "# calling function\n",
    "\n",
    "function()"
   ]
  },
  {
   "cell_type": "code",
   "execution_count": 21,
   "id": "0cab8b7f",
   "metadata": {},
   "outputs": [],
   "source": [
    "def addfunction1():\n",
    "    a=10\n",
    "    b=20\n",
    "    c=a+b\n",
    "    print(c)"
   ]
  },
  {
   "cell_type": "code",
   "execution_count": 23,
   "id": "892c66a3",
   "metadata": {},
   "outputs": [
    {
     "name": "stdout",
     "output_type": "stream",
     "text": [
      "30\n"
     ]
    }
   ],
   "source": [
    "addfunction1()"
   ]
  },
  {
   "cell_type": "code",
   "execution_count": 29,
   "id": "6989e71f",
   "metadata": {},
   "outputs": [],
   "source": [
    "def addfunction2():\n",
    "    a=int(input(\"any number1\"))\n",
    "    b=int(input(\"any number2\"))\n",
    "    c=a+b\n",
    "    print(c)"
   ]
  },
  {
   "cell_type": "code",
   "execution_count": 26,
   "id": "2e9d8311",
   "metadata": {},
   "outputs": [
    {
     "name": "stdout",
     "output_type": "stream",
     "text": [
      "any number25\n",
      "45\n"
     ]
    }
   ],
   "source": [
    "addfunction2()"
   ]
  },
  {
   "cell_type": "code",
   "execution_count": 28,
   "id": "300f2b90",
   "metadata": {},
   "outputs": [
    {
     "name": "stdout",
     "output_type": "stream",
     "text": [
      "any number100\n",
      "120\n"
     ]
    }
   ],
   "source": [
    "addfunction2()"
   ]
  },
  {
   "cell_type": "code",
   "execution_count": 30,
   "id": "a9af9598",
   "metadata": {},
   "outputs": [
    {
     "name": "stdout",
     "output_type": "stream",
     "text": [
      "any number127\n",
      "any number229\n",
      "56\n"
     ]
    }
   ],
   "source": [
    "addfunction2()"
   ]
  },
  {
   "cell_type": "code",
   "execution_count": 36,
   "id": "beb0b50a",
   "metadata": {},
   "outputs": [],
   "source": [
    "def subfunction():\n",
    "    a=float(input(\"any number1()\"))\n",
    "    b=int(input(\"any number2()\"))\n",
    "    c=a-b\n",
    "    print(c)"
   ]
  },
  {
   "cell_type": "code",
   "execution_count": 32,
   "id": "a8181754",
   "metadata": {},
   "outputs": [
    {
     "name": "stdout",
     "output_type": "stream",
     "text": [
      "any number1117\n",
      "any number256\n",
      "61\n"
     ]
    }
   ],
   "source": [
    "subfunction()"
   ]
  },
  {
   "cell_type": "code",
   "execution_count": 38,
   "id": "b31e94a4",
   "metadata": {},
   "outputs": [
    {
     "name": "stdout",
     "output_type": "stream",
     "text": [
      "any number1()79\n",
      "any number2()25\n",
      "54.0\n"
     ]
    }
   ],
   "source": [
    "subfunction()"
   ]
  },
  {
   "cell_type": "code",
   "execution_count": 39,
   "id": "b1a0ed30",
   "metadata": {},
   "outputs": [],
   "source": [
    "def multiply_function():\n",
    "    a=float(input(\"any number1()\"))\n",
    "    b=int(input(\"any number2()\"))\n",
    "    c=a*b\n",
    "    print(c)"
   ]
  },
  {
   "cell_type": "code",
   "execution_count": 40,
   "id": "68ba8d5b",
   "metadata": {},
   "outputs": [
    {
     "name": "stdout",
     "output_type": "stream",
     "text": [
      "any number1()7\n",
      "any number2()21\n",
      "147.0\n"
     ]
    }
   ],
   "source": [
    "multiply_function()"
   ]
  },
  {
   "cell_type": "code",
   "execution_count": 46,
   "id": "fe5feb41",
   "metadata": {},
   "outputs": [],
   "source": [
    "def squarefn():\n",
    "    a=float(input(\"any number1()\"))\n",
    "    c=a*a\n",
    "    print(\"square of given number=\",round(c,2))"
   ]
  },
  {
   "cell_type": "code",
   "execution_count": 47,
   "id": "ca0a079d",
   "metadata": {},
   "outputs": [
    {
     "name": "stdout",
     "output_type": "stream",
     "text": [
      "any number1()5.3\n",
      "square of given number= 28.09\n"
     ]
    }
   ],
   "source": [
    "squarefn()"
   ]
  },
  {
   "cell_type": "code",
   "execution_count": 56,
   "id": "cd91ee3e",
   "metadata": {},
   "outputs": [],
   "source": [
    "def table():\n",
    "    i=int(input(\"any number for table to be generate=\"))\n",
    "    for j in range(1,5):\n",
    "        print(i,'*',j,'=',i*j)"
   ]
  },
  {
   "cell_type": "code",
   "execution_count": 57,
   "id": "32491fe4",
   "metadata": {},
   "outputs": [
    {
     "name": "stdout",
     "output_type": "stream",
     "text": [
      "any number for table to be generate=2\n",
      "2 * 1 = 2\n",
      "2 * 2 = 4\n",
      "2 * 3 = 6\n",
      "2 * 4 = 8\n"
     ]
    }
   ],
   "source": [
    "table()"
   ]
  },
  {
   "cell_type": "code",
   "execution_count": 58,
   "id": "9793e83d",
   "metadata": {},
   "outputs": [
    {
     "name": "stdout",
     "output_type": "stream",
     "text": [
      "any number for table to be generate=2\n",
      "2 * 1 = 2\n",
      "2 * 2 = 4\n",
      "2 * 3 = 6\n",
      "2 * 4 = 8\n"
     ]
    }
   ],
   "source": [
    "table()"
   ]
  },
  {
   "cell_type": "code",
   "execution_count": null,
   "id": "f52f736d",
   "metadata": {},
   "outputs": [],
   "source": [
    "table()+"
   ]
  },
  {
   "cell_type": "code",
   "execution_count": null,
   "id": "67a964b9",
   "metadata": {},
   "outputs": [],
   "source": []
  },
  {
   "cell_type": "code",
   "execution_count": null,
   "id": "a8c845dc",
   "metadata": {},
   "outputs": [],
   "source": []
  },
  {
   "cell_type": "code",
   "execution_count": null,
   "id": "77b8a218",
   "metadata": {},
   "outputs": [],
   "source": [
    "def table():\n",
    "    i=int(input(\"any number for table to be generate=\"))\n",
    "    for j in range(1,5):\n",
    "        print(i,'*',j,'=',i*j)"
   ]
  },
  {
   "cell_type": "code",
   "execution_count": null,
   "id": "b3543d22",
   "metadata": {},
   "outputs": [],
   "source": [
    "table()"
   ]
  },
  {
   "cell_type": "code",
   "execution_count": null,
   "id": "a5f0eb25",
   "metadata": {},
   "outputs": [],
   "source": []
  },
  {
   "cell_type": "code",
   "execution_count": null,
   "id": "f7766892",
   "metadata": {},
   "outputs": [],
   "source": [
    "table()"
   ]
  },
  {
   "cell_type": "code",
   "execution_count": 61,
   "id": "f2729962",
   "metadata": {},
   "outputs": [],
   "source": [
    "def table():\n",
    "    i=int(input(\"any number for table to be generate=\"))\n",
    "    for j in range(1,11):\n",
    "        print(i,'*',j,'=',i*j)"
   ]
  },
  {
   "cell_type": "code",
   "execution_count": 59,
   "id": "ba64d220",
   "metadata": {},
   "outputs": [
    {
     "name": "stdout",
     "output_type": "stream",
     "text": [
      "any number for table to be generate=3\n",
      "3 * 1 = 3\n",
      "3 * 2 = 6\n",
      "3 * 3 = 9\n",
      "3 * 4 = 12\n"
     ]
    }
   ],
   "source": [
    "table()"
   ]
  },
  {
   "cell_type": "code",
   "execution_count": 62,
   "id": "e082276f",
   "metadata": {},
   "outputs": [
    {
     "name": "stdout",
     "output_type": "stream",
     "text": [
      "any number for table to be generate=21\n",
      "21 * 1 = 21\n",
      "21 * 2 = 42\n",
      "21 * 3 = 63\n",
      "21 * 4 = 84\n",
      "21 * 5 = 105\n",
      "21 * 6 = 126\n",
      "21 * 7 = 147\n",
      "21 * 8 = 168\n",
      "21 * 9 = 189\n",
      "21 * 10 = 210\n"
     ]
    }
   ],
   "source": [
    "table()"
   ]
  },
  {
   "cell_type": "code",
   "execution_count": 63,
   "id": "3533c895",
   "metadata": {},
   "outputs": [],
   "source": [
    "def table():\n",
    "    i=float(input(\"any number for table to be generate=\"))\n",
    "    for j in range(1,11):\n",
    "        print(i,'*',j,'=',i*j)"
   ]
  },
  {
   "cell_type": "code",
   "execution_count": 64,
   "id": "59338e77",
   "metadata": {},
   "outputs": [
    {
     "name": "stdout",
     "output_type": "stream",
     "text": [
      "any number for table to be generate=7.3\n",
      "7.3 * 1 = 7.3\n",
      "7.3 * 2 = 14.6\n",
      "7.3 * 3 = 21.9\n",
      "7.3 * 4 = 29.2\n",
      "7.3 * 5 = 36.5\n",
      "7.3 * 6 = 43.8\n",
      "7.3 * 7 = 51.1\n",
      "7.3 * 8 = 58.4\n",
      "7.3 * 9 = 65.7\n",
      "7.3 * 10 = 73.0\n"
     ]
    }
   ],
   "source": [
    "table()"
   ]
  },
  {
   "cell_type": "code",
   "execution_count": 70,
   "id": "af166dab",
   "metadata": {},
   "outputs": [],
   "source": [
    "def area_of_rectangle():\n",
    "    length=int(input(\"Enter length=\"))\n",
    "    breadth=int(input(\"Enter breadth=\"))\n",
    "    area=length*breadth\n",
    "    print(area)\n",
    "    print(\"Area of Rectangle=\",area,'with length=',length,'with breadth=',breadth)"
   ]
  },
  {
   "cell_type": "code",
   "execution_count": 73,
   "id": "bd28f132",
   "metadata": {},
   "outputs": [
    {
     "name": "stdout",
     "output_type": "stream",
     "text": [
      "Enter length=25\n",
      "Enter breadth=12\n",
      "300\n",
      "Area of Rectangle= 300 with length= 25 with breadth= 12\n"
     ]
    }
   ],
   "source": [
    "area_of_rectangle()"
   ]
  },
  {
   "cell_type": "code",
   "execution_count": 14,
   "id": "6dfc28b1",
   "metadata": {},
   "outputs": [],
   "source": [
    "def area_circle():\n",
    "    radius=float(input(\"Enter radius\"))\n",
    "    pi=3.14\n",
    "    area=pi*(radius**2)\n",
    "    print=(\"area of circle=\",area)\n",
    "    print=(\"area of circle=\",area, round(area,2))\n"
   ]
  },
  {
   "cell_type": "code",
   "execution_count": 18,
   "id": "e788289e",
   "metadata": {},
   "outputs": [
    {
     "name": "stdout",
     "output_type": "stream",
     "text": [
      "Enter radius3\n"
     ]
    }
   ],
   "source": [
    "area_circle()"
   ]
  },
  {
   "cell_type": "code",
   "execution_count": 19,
   "id": "3bf45b25",
   "metadata": {},
   "outputs": [],
   "source": [
    "def area_circle():\n",
    "    radius=float(input(\"Enter radius\"))\n",
    "    pi=3.14\n",
    "    area=  pi*(radius**2)\n",
    "    print=(\"area of circle=\",area)\n",
    "    print=(\"area of circle=\",area, round(area,2))\n"
   ]
  },
  {
   "cell_type": "code",
   "execution_count": 20,
   "id": "815262a3",
   "metadata": {},
   "outputs": [
    {
     "name": "stdout",
     "output_type": "stream",
     "text": [
      "Enter radius2\n"
     ]
    }
   ],
   "source": [
    "area_circle()"
   ]
  },
  {
   "cell_type": "code",
   "execution_count": 21,
   "id": "336d05fb",
   "metadata": {},
   "outputs": [],
   "source": [
    "def circle():\n",
    "    radius=float(input(\"Enter radius\"))\n",
    "    Pi=3.14\n",
    "    area=Pi*(radius**2)\n",
    "    print(\"area of circle=\",area)"
   ]
  },
  {
   "cell_type": "code",
   "execution_count": 22,
   "id": "a204bc3e",
   "metadata": {},
   "outputs": [
    {
     "name": "stdout",
     "output_type": "stream",
     "text": [
      "Enter radius3\n",
      "area of circle= 28.26\n"
     ]
    }
   ],
   "source": [
    "circle()"
   ]
  },
  {
   "cell_type": "code",
   "execution_count": 23,
   "id": "5fe23cac",
   "metadata": {},
   "outputs": [
    {
     "name": "stdout",
     "output_type": "stream",
     "text": [
      "Enter radius23\n",
      "area of circle= 1661.0600000000002\n"
     ]
    }
   ],
   "source": [
    "circle()"
   ]
  },
  {
   "cell_type": "code",
   "execution_count": 25,
   "id": "c18f93ff",
   "metadata": {},
   "outputs": [],
   "source": [
    "def circle():\n",
    "    radius=float(input(\"Enter radius\"))\n",
    "    Pi=3.14\n",
    "    area=Pi*(radius**2)\n",
    "    print(\"area of circle=\",area)\n",
    "    print(\"area of circle=\",area, round(area,2))\n",
    "    "
   ]
  },
  {
   "cell_type": "code",
   "execution_count": 26,
   "id": "305ddbfd",
   "metadata": {},
   "outputs": [
    {
     "name": "stdout",
     "output_type": "stream",
     "text": [
      "Enter radius24\n",
      "area of circle= 1808.64\n",
      "area of circle= 1808.64 1808.64\n"
     ]
    }
   ],
   "source": [
    "circle()"
   ]
  },
  {
   "cell_type": "code",
   "execution_count": null,
   "id": "5faa5b1c",
   "metadata": {},
   "outputs": [],
   "source": []
  },
  {
   "cell_type": "code",
   "execution_count": null,
   "id": "7e0e524a",
   "metadata": {},
   "outputs": [],
   "source": []
  },
  {
   "cell_type": "code",
   "execution_count": null,
   "id": "a7fa9d0e",
   "metadata": {},
   "outputs": [],
   "source": []
  }
 ],
 "metadata": {
  "kernelspec": {
   "display_name": "Python 3 (ipykernel)",
   "language": "python",
   "name": "python3"
  },
  "language_info": {
   "codemirror_mode": {
    "name": "ipython",
    "version": 3
   },
   "file_extension": ".py",
   "mimetype": "text/x-python",
   "name": "python",
   "nbconvert_exporter": "python",
   "pygments_lexer": "ipython3",
   "version": "3.11.5"
  }
 },
 "nbformat": 4,
 "nbformat_minor": 5
}
